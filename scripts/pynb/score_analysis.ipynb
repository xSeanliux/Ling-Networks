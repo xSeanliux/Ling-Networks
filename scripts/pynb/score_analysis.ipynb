{
 "cells": [
  {
   "cell_type": "code",
   "execution_count": null,
   "id": "ce190880",
   "metadata": {},
   "outputs": [],
   "source": [
    "import pandas as pd\n",
    "import seaborn as sns \n",
    "import matplotlib.pyplot as plt\n",
    "import os \n",
    "from pathlib import Path\n",
    "import re"
   ]
  },
  {
   "cell_type": "code",
   "execution_count": null,
   "id": "45dd965f",
   "metadata": {},
   "outputs": [],
   "source": [
    "plt.rcParams['figure.dpi'] = 150 # better resolution when showing and saving\n",
    "plt.rcParams[\"savefig.dpi\"] = 150\n",
    "plt.rcParams['font.size'] = 15"
   ]
  },
  {
   "cell_type": "code",
   "execution_count": null,
   "id": "880173e3",
   "metadata": {},
   "outputs": [],
   "source": [
    "LN = Path(os.getenv(\"TALLIS\")) / \"Ling-Networks\""
   ]
  },
  {
   "cell_type": "code",
   "execution_count": null,
   "id": "c3734047",
   "metadata": {},
   "outputs": [],
   "source": [
    "SUF_MAP = {\n",
    "    \"\": \"Low Homoplasy\",\n",
    "    \"-hihp\": \"High Homoplasy\"\n",
    "}\n",
    "METHODS = [\"ASTRAL(9,5)\", \"ASTRAL(10,5)\", \"MP4\", \"GA\", \"COV\", \"TRUE-CAMUS\"]\n",
    "FACTORS = [\"1.0\", \"2.0\", \"4.0\"]"
   ]
  },
  {
   "cell_type": "code",
   "execution_count": null,
   "id": "b2fa11a1",
   "metadata": {},
   "outputs": [],
   "source": [
    "scorepathre = re.compile(r'inference_outputs-(?P<factor>[0-9].[05])(?P<suf>(-[a-z]+)?)/(?P<poly>\\S+)_borrowing')\n",
    "def get_data(score_path):\n",
    "    matched = scorepathre.search(score_path)\n",
    "    if matched is None:\n",
    "        return None\n",
    "    df = pd.read_csv(score_path)\n",
    "    method = None\n",
    "    for _method in METHODS:\n",
    "        if _method in score_path:\n",
    "            method = _method \n",
    "    df['factor'] = matched.group('factor')\n",
    "    df['poly'] = matched.group('poly')\n",
    "    df['suf'] = SUF_MAP[matched.group('suf')]\n",
    "    df['method'] = method\n",
    "    return df"
   ]
  },
  {
   "cell_type": "code",
   "execution_count": null,
   "id": "38025670",
   "metadata": {},
   "outputs": [],
   "source": [
    "from itertools import chain\n",
    "all_score_paths = chain(\n",
    "    (LN / \"outputs\").glob(\"*/*/*/CAMUS/underlyingtree_scores.csv\"),\n",
    ")\n",
    "\n",
    "df_net = None\n",
    "\n",
    "for score_path in all_score_paths: \n",
    "    if \"COV\" in str(score_path):\n",
    "        continue\n",
    "    print(score_path)\n",
    "    res = get_data(str(score_path))\n",
    "    if df_net is None:\n",
    "        df_net = res\n",
    "    else: \n",
    "        df_net = pd.concat([df_net, res], ignore_index=True)\n",
    "df_net['type'] = 'NET'"
   ]
  },
  {
   "cell_type": "code",
   "execution_count": null,
   "id": "e3f01ab2",
   "metadata": {},
   "outputs": [],
   "source": [
    "from itertools import chain\n",
    "all_score_paths = chain(\n",
    "    (LN / \"outputs\").glob(\"*/*/*/underlyingtree_scores.csv\")\n",
    ")\n",
    "df_tree = None\n",
    "\n",
    "for score_path in all_score_paths: \n",
    "    if \"COV\" in str(score_path):\n",
    "        continue\n",
    "    print(score_path)\n",
    "    res = get_data(str(score_path))\n",
    "    if df_tree is None:\n",
    "        df_tree = res\n",
    "    elif res is not None: \n",
    "        df_tree = pd.concat([df_tree, res], ignore_index=True)\n",
    "    else:\n",
    "        print(f\"HEY {score_path=} is None\")\n",
    "df_tree['type'] = 'TREE'"
   ]
  },
  {
   "cell_type": "code",
   "execution_count": null,
   "id": "c5be373c",
   "metadata": {},
   "outputs": [],
   "source": [
    "df_tree.head()"
   ]
  },
  {
   "cell_type": "code",
   "execution_count": null,
   "id": "3595a0ef",
   "metadata": {},
   "outputs": [],
   "source": [
    "df_net.head()"
   ]
  },
  {
   "cell_type": "code",
   "execution_count": null,
   "id": "8df684f3",
   "metadata": {},
   "outputs": [],
   "source": [
    "print(len(df_tree), len(df_net))"
   ]
  },
  {
   "cell_type": "code",
   "execution_count": null,
   "id": "d044a405",
   "metadata": {},
   "outputs": [],
   "source": [
    "df = pd.concat([df_tree, df_net], ignore_index=True)"
   ]
  },
  {
   "cell_type": "code",
   "execution_count": null,
   "id": "e730e632",
   "metadata": {},
   "outputs": [],
   "source": [
    "def tree_net_comparison(\n",
    "    y: str,\n",
    "    ylabel: str,\n",
    "    title: str,\n",
    "    tree_first: bool = False,\n",
    "):\n",
    "    fig, ax = plt.subplots(1,1)\n",
    "    sns.barplot(\n",
    "        data=df_net if not tree_first else df_tree, \n",
    "        y=y,\n",
    "        x = 'factor',\n",
    "        hue='method',\n",
    "        order = [\"1.0\", \"2.0\", \"4.0\"],\n",
    "        ax=ax,\n",
    "        palette= sns.color_palette()  if not tree_first else sns.color_palette(palette=\"pastel\"),\n",
    "        errorbar='se',\n",
    "    )\n",
    "    sns.barplot(\n",
    "        data=df_tree if not tree_first else df_net, \n",
    "        y=y,\n",
    "        x = 'factor',\n",
    "        hue='method',\n",
    "        order = [\"1.0\", \"2.0\", \"4.0\"],\n",
    "        ax=ax,\n",
    "        palette=sns.color_palette(palette=\"pastel\") if not tree_first else sns.color_palette() ,\n",
    "        errorbar='se',\n",
    "    )\n",
    "    handles, labels = plt.gca().get_legend_handles_labels()\n",
    "    by_label = dict(zip(labels, handles))\n",
    "    plt.legend(\n",
    "        by_label.values(),\n",
    "        by_label.keys(), \n",
    "        ncol=3, \n",
    "        # loc = 'lower left',\n",
    "        prop={'size': 10},\n",
    "    )\n",
    "    ax.set_ylabel(ylabel)\n",
    "    ax.set_title(title)\n",
    "    fig.show()\n",
    "    fig.savefig(LN / \"figs\" / f\"{y}-by-method.png\", bbox_inches='tight')\n",
    "    return ax"
   ]
  },
  {
   "cell_type": "code",
   "execution_count": null,
   "id": "7aa66352",
   "metadata": {},
   "outputs": [],
   "source": [
    "tree_net_comparison('js', 'Jaccard Similarity', 'Jaccard Similarity by method')\n",
    "tree_net_comparison('cd', 'Clade Distance', 'Clade Distance by method')\n",
    "tree_net_comparison('fn', 'FN', 'FN by method', tree_first=True)\n",
    "tree_net_comparison('fp', 'FP', 'FP by method', tree_first=True)"
   ]
  },
  {
   "cell_type": "code",
   "execution_count": null,
   "id": "2035fb97",
   "metadata": {},
   "outputs": [],
   "source": [
    "ax = plt.subplot()\n",
    "sns.barplot(\n",
    "    data=df_net[df_net[\"method\"] == \"TRUE-CAMUS\"], \n",
    "    y='cd',\n",
    "    x = 'factor',\n",
    "    hue='edges',\n",
    "    order = [\"1.0\", \"2.0\", \"4.0\"],\n",
    "    ax=ax,\n",
    "    palette=sns.color_palette(\"Set2\")\n",
    ")\n",
    "ax.set_ylabel(\"Clade Distance\")\n",
    "ax.set_title(\"Clade Distance by edges in model network on true trees\")\n",
    "plt.savefig(LN / \"figs\" / \"cd-by-edge.png\", bbox_inches='tight')"
   ]
  },
  {
   "cell_type": "code",
   "execution_count": null,
   "id": "a6f214e9",
   "metadata": {},
   "outputs": [],
   "source": [
    "ax = plt.subplot()\n",
    "sns.barplot(\n",
    "    data=df_net[df_net[\"method\"] == \"TRUE-CAMUS\"], \n",
    "    y= 'js',\n",
    "    x = 'factor',\n",
    "    hue= 'edges',\n",
    "    order = [\"1.0\", \"2.0\", \"4.0\"],\n",
    "    ax=ax,\n",
    "    palette=sns.color_palette(\"Set2\")\n",
    ")\n",
    "ax.set_ylabel(\"Jaccard Similarity\")\n",
    "ax.set_title(\"Jaccard sim., edges in model net, true trees\")\n",
    "plt.savefig(LN / \"figs\" / \"js-by-edge.png\", bbox_inches='tight')"
   ]
  },
  {
   "cell_type": "code",
   "execution_count": null,
   "id": "8f22e7fe",
   "metadata": {},
   "outputs": [],
   "source": [
    "ax = plt.subplot()\n",
    "sns.barplot(\n",
    "    data=df_net[df_net[\"method\"] == \"TRUE-CAMUS\"], \n",
    "    y= 'js',\n",
    "    x = '',\n",
    "    hue= 'edges',\n",
    "    order = [\"1.0\", \"2.0\", \"4.0\"],\n",
    "    ax=ax,\n",
    "    palette=sns.color_palette(\"Set2\")\n",
    ")\n",
    "ax.set_ylabel(\"Jaccard Similarity\")\n",
    "ax.set_title(\"Jaccard sim., edges in model net, true trees\")\n",
    "plt.savefig(LN / \"figs\" / \"js-by-edge.png\", bbox_inches='tight')"
   ]
  },
  {
   "cell_type": "markdown",
   "id": "01f024ec",
   "metadata": {},
   "source": [
    "## Parse CAMUS logs"
   ]
  },
  {
   "cell_type": "code",
   "execution_count": 8,
   "id": "861a3065",
   "metadata": {},
   "outputs": [],
   "source": [
    "logpathre = re.compile(r'inference_outputs-(?P<factor>[0-9].[05])(?P<suf>(-[a-z]+)?)/(?P<poly>\\S+)_borrowing')\n",
    "totquartetre = re.compile(r'(?P<tgt>\\d+) gene trees provided')\n",
    "newquartetre = re.compile(r'(?P<tgt>\\d+) new quartet trees')\n",
    "dpscorere = re.compile(r'dp scored (?P<tgt>\\d+) at root')\n",
    "newedgere = re.compile(r'(?P<tgt>\\d+) edges identified')\n",
    "lognamere = re.compile(r'(?P<xedges>\\d+)-_?(?P<tree>\\d+)_(?P<replica>\\d+)')\n",
    "\n",
    "def get_maybe_re(reg, inp):\n",
    "    m = reg.search(inp)\n",
    "    return float(m.group('tgt')) if m is not None else None\n",
    "\n",
    "def parse_camus_log(log_path):\n",
    "    contents = open(log_path, \"r\").read()\n",
    "    return get_maybe_re(totquartetre, contents), get_maybe_re(newquartetre, contents),\\\n",
    "        get_maybe_re(dpscorere, contents), get_maybe_re(newedgere, contents)\n",
    "\n",
    "def parse_camus_filename(log_path):\n",
    "    m = lognamere.search(log_path)\n",
    "    if m is None:\n",
    "        return m \n",
    "    return m.group('xedges'), m.group('tree'), m.group('replica')\n",
    "\n",
    "\n",
    "def get_camus_log_data(log_path):\n",
    "    matched = logpathre.search(log_path)\n",
    "    if matched is None:\n",
    "        return None\n",
    "    method = log_path.split('/')[-4]\n",
    "    tot_quartets, new_quartets, dp_score, extra_edges = parse_camus_log(log_path)\n",
    "    xedges, tree, replica= parse_camus_filename(log_path)\n",
    "\n",
    "    return {\n",
    "        'tree': tree,\n",
    "        'replica': replica,\n",
    "        'actual_extra_edges': xedges,\n",
    "        'factor': matched.group('factor'),\n",
    "        'poly': matched.group('poly'),\n",
    "        'suf': SUF_MAP[matched.group('suf')],\n",
    "        'method': method if \"TRUE-CAMUS\" not in log_path else \"True Tree\",\n",
    "        'tree_q_score': (tot_quartets - new_quartets) / tot_quartets,\n",
    "        'net_q_score' : (tot_quartets - new_quartets + dp_score) / tot_quartets,\n",
    "        'tot_quartets' : tot_quartets,\n",
    "        'extra_edges' : extra_edges,\n",
    "    }"
   ]
  },
  {
   "cell_type": "code",
   "execution_count": 9,
   "id": "f2865ad5",
   "metadata": {},
   "outputs": [
    {
     "data": {
      "text/plain": [
       "{'tree': '13',\n",
       " 'replica': '1',\n",
       " 'actual_extra_edges': '1',\n",
       " 'factor': '2.0',\n",
       " 'poly': 'high',\n",
       " 'suf': 'Low Homoplasy',\n",
       " 'method': 'ASTRAL(10,5)',\n",
       " 'tree_q_score': 0.99388557286359,\n",
       " 'net_q_score': 0.9996117824040375,\n",
       " 'tot_quartets': 20607.0,\n",
       " 'extra_edges': 3.0}"
      ]
     },
     "execution_count": 9,
     "metadata": {},
     "output_type": "execute_result"
    }
   ],
   "source": [
    "get_camus_log_data(\"/projects/illinois/eng/cs/warnow/zxliu2/Ling-Networks/outputs/inference_outputs-2.0/high_borrowing/ASTRAL(10,5)/CAMUS/logs/high1-_13_1-output.log\")"
   ]
  },
  {
   "cell_type": "code",
   "execution_count": 10,
   "id": "84846bf9",
   "metadata": {},
   "outputs": [],
   "source": [
    "all_score_paths = (LN / \"outputs\").glob(\"**/CAMUS/logs/*.log\")\n",
    "\n",
    "data = []\n",
    "\n",
    "for score_path in all_score_paths: \n",
    "    if \"COV\" in str(score_path):\n",
    "        continue\n",
    "    # print(str(score_path))\n",
    "    res = get_camus_log_data(str(score_path))\n",
    "    if res is not None:\n",
    "        data.append(res)\n",
    "    else:\n",
    "        print(f\"{score_path=} returned NONE!\")\n",
    "df_logs = pd.DataFrame.from_records(data)"
   ]
  },
  {
   "cell_type": "code",
   "execution_count": null,
   "id": "94894133",
   "metadata": {},
   "outputs": [],
   "source": [
    "print(len(df_logs))"
   ]
  },
  {
   "cell_type": "code",
   "execution_count": 11,
   "id": "5fd9125e",
   "metadata": {},
   "outputs": [
    {
     "data": {
      "text/html": [
       "<div>\n",
       "<style scoped>\n",
       "    .dataframe tbody tr th:only-of-type {\n",
       "        vertical-align: middle;\n",
       "    }\n",
       "\n",
       "    .dataframe tbody tr th {\n",
       "        vertical-align: top;\n",
       "    }\n",
       "\n",
       "    .dataframe thead th {\n",
       "        text-align: right;\n",
       "    }\n",
       "</style>\n",
       "<table border=\"1\" class=\"dataframe\">\n",
       "  <thead>\n",
       "    <tr style=\"text-align: right;\">\n",
       "      <th></th>\n",
       "      <th>tree</th>\n",
       "      <th>replica</th>\n",
       "      <th>actual_extra_edges</th>\n",
       "      <th>factor</th>\n",
       "      <th>poly</th>\n",
       "      <th>suf</th>\n",
       "      <th>method</th>\n",
       "      <th>tree_q_score</th>\n",
       "      <th>net_q_score</th>\n",
       "      <th>tot_quartets</th>\n",
       "      <th>extra_edges</th>\n",
       "    </tr>\n",
       "  </thead>\n",
       "  <tbody>\n",
       "    <tr>\n",
       "      <th>0</th>\n",
       "      <td>7</td>\n",
       "      <td>1</td>\n",
       "      <td>1</td>\n",
       "      <td>4.0</td>\n",
       "      <td>high</td>\n",
       "      <td>Low Homoplasy</td>\n",
       "      <td>GA</td>\n",
       "      <td>1.000000</td>\n",
       "      <td>1.000000</td>\n",
       "      <td>9433.0</td>\n",
       "      <td>0.0</td>\n",
       "    </tr>\n",
       "    <tr>\n",
       "      <th>1</th>\n",
       "      <td>6</td>\n",
       "      <td>1</td>\n",
       "      <td>2</td>\n",
       "      <td>4.0</td>\n",
       "      <td>high</td>\n",
       "      <td>Low Homoplasy</td>\n",
       "      <td>GA</td>\n",
       "      <td>0.996176</td>\n",
       "      <td>1.000000</td>\n",
       "      <td>2615.0</td>\n",
       "      <td>3.0</td>\n",
       "    </tr>\n",
       "    <tr>\n",
       "      <th>2</th>\n",
       "      <td>2</td>\n",
       "      <td>1</td>\n",
       "      <td>1</td>\n",
       "      <td>4.0</td>\n",
       "      <td>high</td>\n",
       "      <td>Low Homoplasy</td>\n",
       "      <td>GA</td>\n",
       "      <td>0.993301</td>\n",
       "      <td>0.997681</td>\n",
       "      <td>7762.0</td>\n",
       "      <td>2.0</td>\n",
       "    </tr>\n",
       "    <tr>\n",
       "      <th>3</th>\n",
       "      <td>12</td>\n",
       "      <td>1</td>\n",
       "      <td>2</td>\n",
       "      <td>4.0</td>\n",
       "      <td>high</td>\n",
       "      <td>Low Homoplasy</td>\n",
       "      <td>GA</td>\n",
       "      <td>1.000000</td>\n",
       "      <td>1.000000</td>\n",
       "      <td>5397.0</td>\n",
       "      <td>0.0</td>\n",
       "    </tr>\n",
       "    <tr>\n",
       "      <th>4</th>\n",
       "      <td>4</td>\n",
       "      <td>1</td>\n",
       "      <td>3</td>\n",
       "      <td>4.0</td>\n",
       "      <td>high</td>\n",
       "      <td>Low Homoplasy</td>\n",
       "      <td>GA</td>\n",
       "      <td>0.997848</td>\n",
       "      <td>0.999660</td>\n",
       "      <td>8828.0</td>\n",
       "      <td>1.0</td>\n",
       "    </tr>\n",
       "  </tbody>\n",
       "</table>\n",
       "</div>"
      ],
      "text/plain": [
       "  tree replica actual_extra_edges factor  poly            suf method  \\\n",
       "0    7       1                  1    4.0  high  Low Homoplasy     GA   \n",
       "1    6       1                  2    4.0  high  Low Homoplasy     GA   \n",
       "2    2       1                  1    4.0  high  Low Homoplasy     GA   \n",
       "3   12       1                  2    4.0  high  Low Homoplasy     GA   \n",
       "4    4       1                  3    4.0  high  Low Homoplasy     GA   \n",
       "\n",
       "   tree_q_score  net_q_score  tot_quartets  extra_edges  \n",
       "0      1.000000     1.000000        9433.0          0.0  \n",
       "1      0.996176     1.000000        2615.0          3.0  \n",
       "2      0.993301     0.997681        7762.0          2.0  \n",
       "3      1.000000     1.000000        5397.0          0.0  \n",
       "4      0.997848     0.999660        8828.0          1.0  "
      ]
     },
     "execution_count": 11,
     "metadata": {},
     "output_type": "execute_result"
    }
   ],
   "source": [
    "df_logs.head()"
   ]
  },
  {
   "cell_type": "code",
   "execution_count": null,
   "id": "45bf5840",
   "metadata": {},
   "outputs": [],
   "source": [
    "fig, ax = plt.subplots(1,1)\n",
    "sns.barplot(\n",
    "    data = df_logs,\n",
    "    x = 'factor',\n",
    "    y = 'net_q_score',\n",
    "    order = FACTORS,\n",
    "    hue = 'method',\n",
    "    ax=ax\n",
    ")\n",
    "sns.barplot(\n",
    "    data = df_logs,\n",
    "    x = 'factor',\n",
    "    y = 'tree_q_score',\n",
    "    order = FACTORS,\n",
    "    hue = 'method',\n",
    "    ax=ax,\n",
    "    palette=sns.color_palette(palette=\"pastel\"),\n",
    ")\n",
    "ax.axhline(1, ls = '--')\n",
    "ax.set_title(\"Quartet Compatibility between underlying trees and networks\")\n",
    "ax.set_xlabel(\"Evolution Factor\")\n",
    "ax.set_ylabel(\"% quartets compatible\")\n",
    "handles, labels = plt.gca().get_legend_handles_labels()\n",
    "by_label = dict(zip(labels, handles))\n",
    "plt.legend(by_label.values(), by_label.keys(), ncol=2)\n",
    "ax.set_ylim(0.92, 1.01)\n",
    "fig.savefig(LN / \"figs\" / \"quartet-compatibility.png\", bbox_inches='tight')\n",
    "\n"
   ]
  },
  {
   "cell_type": "code",
   "execution_count": null,
   "id": "bcaf3433",
   "metadata": {},
   "outputs": [],
   "source": [
    "fig, ax2 = plt.subplots(1,1)\n",
    "sns.catplot(\n",
    "    data=df_logs,\n",
    "    x = 'factor',\n",
    "    y = 'extra_edges',\n",
    "    order = FACTORS,\n",
    "    hue = 'method',\n",
    "    ax=ax2,\n",
    "    kind='violin'\n",
    ")\n",
    "ax2.set_title(\"# extra edges used by method\")\n",
    "fig.savefig(LN / \"figs\" / \"extra-edges-method.png\", bbox_inches='tight')"
   ]
  },
  {
   "cell_type": "code",
   "execution_count": null,
   "id": "7f672267",
   "metadata": {},
   "outputs": [],
   "source": [
    "df_logs.groupby('method').head()"
   ]
  },
  {
   "cell_type": "code",
   "execution_count": null,
   "id": "807ea585",
   "metadata": {},
   "outputs": [],
   "source": [
    "ax = plt.subplot()\n",
    "true_tree_df = df_logs[df_logs['method'] == 'True Tree']\n",
    "sns.boxplot(\n",
    "    data = true_tree_df,\n",
    "    x = 'factor',\n",
    "    y = 'extra_edges',\n",
    "    order = FACTORS,\n",
    "    hue = 'actual_extra_edges',\n",
    "    hue_order = [\"1\",\"2\",\"3\"],\n",
    "    ax=ax\n",
    ")\n",
    "\n",
    "ax.set_title(\"Inferred extra edges to actual extra edges, true tree\")\n",
    "plt.savefig(LN / \"figs\" / \"infxtra-actextra.png\")\n"
   ]
  },
  {
   "cell_type": "code",
   "execution_count": null,
   "id": "92eae40d",
   "metadata": {},
   "outputs": [],
   "source": [
    "df_logs.head()"
   ]
  },
  {
   "cell_type": "code",
   "execution_count": null,
   "id": "45eb5270",
   "metadata": {},
   "outputs": [
    {
     "data": {
      "image/png": "[encoded data removed]",
      "text/plain": [
       "<Figure size 960x720 with 1 Axes>"
      ]
     },
     "metadata": {},
     "output_type": "display_data"
    }
   ],
   "source": [
    "fig, ax = plt.subplots(1,1)\n",
    "true_tree_df = df_logs[df_logs['method'] == 'True Tree']\n",
    "sns.boxplot(\n",
    "    data = true_tree_df,\n",
    "    x = 'factor',\n",
    "    y = 'extra_edges',\n",
    "    order = FACTORS,\n",
    "    hue = 'actual_extra_edges',\n",
    "    hue_order = [\"1\",\"2\",\"3\"],\n",
    "    ax=ax\n",
    ")\n",
    "\n",
    "ax.set_title(\"Inferred extra edges to actual extra edges, true tree\")\n",
    "fig.savefig(LN / \"figs\" / \"infxtra-actextra.png\")\n"
   ]
  },
  {
   "cell_type": "code",
   "execution_count": null,
   "id": "5e2403cb",
   "metadata": {},
   "outputs": [
    {
     "data": {
      "image/png": "[encoded data removed]",
      "text/plain": [
       "<Figure size 960x720 with 1 Axes>"
      ]
     },
     "metadata": {},
     "output_type": "display_data"
    }
   ],
   "source": [
    "fig, ax = plt.subplots(1,1)\n",
    "sns.boxplot(\n",
    "    data = true_tree_df,\n",
    "    x = 'factor',\n",
    "    y = 'tot_quartets',\n",
    "    order = FACTORS,\n",
    "    hue = 'actual_extra_edges',\n",
    "    hue_order = [\"1\",\"2\",\"3\"],\n",
    "    ax=ax\n",
    ")\n",
    "\n",
    "ax.set_title(\"Number of generated quartets\")\n",
    "ax.set_ylabel(\"\")\n",
    "fig.savefig(LN / \"figs\" / \"ngen-quartets.png\")\n"
   ]
  },
  {
   "cell_type": "code",
   "execution_count": null,
   "id": "4c393e83",
   "metadata": {},
   "outputs": [],
   "source": []
  }
 ],
 "metadata": {
  "kernelspec": {
   "display_name": "base",
   "language": "python",
   "name": "python3"
  },
  "language_info": {
   "codemirror_mode": {
    "name": "ipython",
    "version": 3
   },
   "file_extension": ".py",
   "mimetype": "text/x-python",
   "name": "python",
   "nbconvert_exporter": "python",
   "pygments_lexer": "ipython3",
   "version": "3.12.7"
  }
 },
 "nbformat": 4,
 "nbformat_minor": 5
}
